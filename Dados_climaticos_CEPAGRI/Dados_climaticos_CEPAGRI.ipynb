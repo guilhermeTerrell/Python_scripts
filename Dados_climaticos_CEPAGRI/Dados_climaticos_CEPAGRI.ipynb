{
 "cells": [
  {
   "cell_type": "markdown",
   "metadata": {},
   "source": [
    "# Dados climáticos CEPAGRI (município de Campinas)"
   ]
  },
  {
   "cell_type": "markdown",
   "metadata": {},
   "source": [
    "Período: 01/01/2010 a 14/02/2022\n",
    "Fonte: https://www.agritempo.gov.br/agritempo/jsp/PesquisaClima/index.jsp?siglaUF=SP&lang=pt_br\n",
    "Estação meteorológica: CAMPINAS - CEPAGRI / UNICAMP"
   ]
  },
  {
   "cell_type": "code",
   "execution_count": 479,
   "metadata": {},
   "outputs": [],
   "source": [
    "import numpy as np\n",
    "import pandas as pd\n",
    "import matplotlib.pyplot as plt\n",
    "from sklearn.model_selection import train_test_split\n",
    "from sklearn.linear_model import LinearRegression\n",
    "%matplotlib inline"
   ]
  },
  {
   "cell_type": "code",
   "execution_count": 480,
   "metadata": {},
   "outputs": [
    {
     "data": {
      "text/html": [
       "<div>\n",
       "<style scoped>\n",
       "    .dataframe tbody tr th:only-of-type {\n",
       "        vertical-align: middle;\n",
       "    }\n",
       "\n",
       "    .dataframe tbody tr th {\n",
       "        vertical-align: top;\n",
       "    }\n",
       "\n",
       "    .dataframe thead th {\n",
       "        text-align: right;\n",
       "    }\n",
       "</style>\n",
       "<table border=\"1\" class=\"dataframe\">\n",
       "  <thead>\n",
       "    <tr style=\"text-align: right;\">\n",
       "      <th></th>\n",
       "      <th>data</th>\n",
       "      <th>tMin</th>\n",
       "      <th>tMin Estimada</th>\n",
       "      <th>tMed</th>\n",
       "      <th>tMed Estimada</th>\n",
       "      <th>tMax</th>\n",
       "      <th>tMax Estimada</th>\n",
       "      <th>precipitacao</th>\n",
       "      <th>precipitacao Estimada</th>\n",
       "      <th>estiagem*</th>\n",
       "      <th>...</th>\n",
       "      <th>radiacaoSolar</th>\n",
       "      <th>velocidadeVento</th>\n",
       "      <th>direcaoVento</th>\n",
       "      <th>horarioVento</th>\n",
       "      <th>pontoOrvalhoMinimo</th>\n",
       "      <th>pontoOrvalhoMaximo</th>\n",
       "      <th>pressaoAtmMinima</th>\n",
       "      <th>pressaoAtmMaxima</th>\n",
       "      <th>evapotranspiracaoReal*</th>\n",
       "      <th>disponibilidadeAguaSolo*</th>\n",
       "    </tr>\n",
       "  </thead>\n",
       "  <tbody>\n",
       "    <tr>\n",
       "      <th>4424</th>\n",
       "      <td>2010-01-05 00:00:00</td>\n",
       "      <td>20.87</td>\n",
       "      <td>nÃ£o</td>\n",
       "      <td>27.3</td>\n",
       "      <td>nÃ£o</td>\n",
       "      <td>33.73</td>\n",
       "      <td>nÃ£o</td>\n",
       "      <td>5.33</td>\n",
       "      <td>nÃ£o</td>\n",
       "      <td>0</td>\n",
       "      <td>...</td>\n",
       "      <td>NaN</td>\n",
       "      <td>NaN</td>\n",
       "      <td>NaN</td>\n",
       "      <td>NaN</td>\n",
       "      <td>NaN</td>\n",
       "      <td>NaN</td>\n",
       "      <td>NaN</td>\n",
       "      <td>NaN</td>\n",
       "      <td>5.23</td>\n",
       "      <td>83.84</td>\n",
       "    </tr>\n",
       "    <tr>\n",
       "      <th>4425</th>\n",
       "      <td>2010-01-04 00:00:00</td>\n",
       "      <td>21.46</td>\n",
       "      <td>nÃ£o</td>\n",
       "      <td>28.07</td>\n",
       "      <td>nÃ£o</td>\n",
       "      <td>34.68</td>\n",
       "      <td>nÃ£o</td>\n",
       "      <td>0</td>\n",
       "      <td>nÃ£o</td>\n",
       "      <td>1</td>\n",
       "      <td>...</td>\n",
       "      <td>NaN</td>\n",
       "      <td>NaN</td>\n",
       "      <td>NaN</td>\n",
       "      <td>NaN</td>\n",
       "      <td>NaN</td>\n",
       "      <td>NaN</td>\n",
       "      <td>NaN</td>\n",
       "      <td>NaN</td>\n",
       "      <td>4.66</td>\n",
       "      <td>83.74</td>\n",
       "    </tr>\n",
       "    <tr>\n",
       "      <th>4426</th>\n",
       "      <td>2010-01-03 00:00:00</td>\n",
       "      <td>21.2</td>\n",
       "      <td>nÃ£o</td>\n",
       "      <td>28.16</td>\n",
       "      <td>nÃ£o</td>\n",
       "      <td>35.11</td>\n",
       "      <td>nÃ£o</td>\n",
       "      <td>2.54</td>\n",
       "      <td>nÃ£o</td>\n",
       "      <td>0</td>\n",
       "      <td>...</td>\n",
       "      <td>NaN</td>\n",
       "      <td>NaN</td>\n",
       "      <td>NaN</td>\n",
       "      <td>NaN</td>\n",
       "      <td>NaN</td>\n",
       "      <td>NaN</td>\n",
       "      <td>NaN</td>\n",
       "      <td>NaN</td>\n",
       "      <td>5.23</td>\n",
       "      <td>88.4</td>\n",
       "    </tr>\n",
       "    <tr>\n",
       "      <th>4427</th>\n",
       "      <td>2010-01-02 00:00:00</td>\n",
       "      <td>21.27</td>\n",
       "      <td>nÃ£o</td>\n",
       "      <td>26.18</td>\n",
       "      <td>nÃ£o</td>\n",
       "      <td>31.08</td>\n",
       "      <td>nÃ£o</td>\n",
       "      <td>3.05</td>\n",
       "      <td>nÃ£o</td>\n",
       "      <td>0</td>\n",
       "      <td>...</td>\n",
       "      <td>NaN</td>\n",
       "      <td>NaN</td>\n",
       "      <td>NaN</td>\n",
       "      <td>NaN</td>\n",
       "      <td>NaN</td>\n",
       "      <td>NaN</td>\n",
       "      <td>NaN</td>\n",
       "      <td>NaN</td>\n",
       "      <td>4.43</td>\n",
       "      <td>91.09</td>\n",
       "    </tr>\n",
       "    <tr>\n",
       "      <th>4428</th>\n",
       "      <td>2010-01-01 00:00:00</td>\n",
       "      <td>20.07</td>\n",
       "      <td>nÃ£o</td>\n",
       "      <td>24.11</td>\n",
       "      <td>nÃ£o</td>\n",
       "      <td>28.15</td>\n",
       "      <td>nÃ£o</td>\n",
       "      <td>0</td>\n",
       "      <td>nÃ£o</td>\n",
       "      <td>2</td>\n",
       "      <td>...</td>\n",
       "      <td>NaN</td>\n",
       "      <td>NaN</td>\n",
       "      <td>NaN</td>\n",
       "      <td>NaN</td>\n",
       "      <td>NaN</td>\n",
       "      <td>NaN</td>\n",
       "      <td>NaN</td>\n",
       "      <td>NaN</td>\n",
       "      <td>3.22</td>\n",
       "      <td>92.47</td>\n",
       "    </tr>\n",
       "  </tbody>\n",
       "</table>\n",
       "<p>5 rows × 26 columns</p>\n",
       "</div>"
      ],
      "text/plain": [
       "0                   data   tMin   tMin Estimada   tMed   tMed Estimada   \\\n",
       "4424  2010-01-05 00:00:00  20.87            nÃ£o   27.3            nÃ£o   \n",
       "4425  2010-01-04 00:00:00  21.46            nÃ£o  28.07            nÃ£o   \n",
       "4426  2010-01-03 00:00:00   21.2            nÃ£o  28.16            nÃ£o   \n",
       "4427  2010-01-02 00:00:00  21.27            nÃ£o  26.18            nÃ£o   \n",
       "4428  2010-01-01 00:00:00  20.07            nÃ£o  24.11            nÃ£o   \n",
       "\n",
       "0     tMax   tMax Estimada   precipitacao   precipitacao Estimada   \\\n",
       "4424  33.73            nÃ£o           5.33                    nÃ£o   \n",
       "4425  34.68            nÃ£o              0                    nÃ£o   \n",
       "4426  35.11            nÃ£o           2.54                    nÃ£o   \n",
       "4427  31.08            nÃ£o           3.05                    nÃ£o   \n",
       "4428  28.15            nÃ£o              0                    nÃ£o   \n",
       "\n",
       "0     estiagem*   ...  radiacaoSolar   velocidadeVento   direcaoVento   \\\n",
       "4424           0  ...             NaN               NaN            NaN   \n",
       "4425           1  ...             NaN               NaN            NaN   \n",
       "4426           0  ...             NaN               NaN            NaN   \n",
       "4427           0  ...             NaN               NaN            NaN   \n",
       "4428           2  ...             NaN               NaN            NaN   \n",
       "\n",
       "0     horarioVento   pontoOrvalhoMinimo   pontoOrvalhoMaximo   \\\n",
       "4424            NaN                  NaN                  NaN   \n",
       "4425            NaN                  NaN                  NaN   \n",
       "4426            NaN                  NaN                  NaN   \n",
       "4427            NaN                  NaN                  NaN   \n",
       "4428            NaN                  NaN                  NaN   \n",
       "\n",
       "0     pressaoAtmMinima   pressaoAtmMaxima   evapotranspiracaoReal*   \\\n",
       "4424                NaN                NaN                     5.23   \n",
       "4425                NaN                NaN                     4.66   \n",
       "4426                NaN                NaN                     5.23   \n",
       "4427                NaN                NaN                     4.43   \n",
       "4428                NaN                NaN                     3.22   \n",
       "\n",
       "0     disponibilidadeAguaSolo*  \n",
       "4424                     83.84  \n",
       "4425                     83.74  \n",
       "4426                      88.4  \n",
       "4427                     91.09  \n",
       "4428                     92.47  \n",
       "\n",
       "[5 rows x 26 columns]"
      ]
     },
     "execution_count": 480,
     "metadata": {},
     "output_type": "execute_result"
    }
   ],
   "source": [
    "dfClima = pd.read_excel(r'dadosClimaticos_35.xls', skiprows=7)\n",
    "#Define first row of dataframe as header\n",
    "dfClima.columns = dfClima.iloc[0]\n",
    "#Drop first line\n",
    "dfClima.drop(labels=0, axis=0, inplace=True)\n",
    "#dfClima = dfClima.iloc[1:] -> Same result as line above\n",
    "dfClima.tail()"
   ]
  },
  {
   "cell_type": "code",
   "execution_count": 481,
   "metadata": {},
   "outputs": [
    {
     "name": "stdout",
     "output_type": "stream",
     "text": [
      "<class 'pandas.core.frame.DataFrame'>\n",
      "Int64Index: 4428 entries, 1 to 4428\n",
      "Data columns (total 26 columns):\n",
      "data                            4428 non-null object\n",
      " tMin                           4428 non-null object\n",
      " tMin Estimada                  4428 non-null object\n",
      " tMed                           4428 non-null object\n",
      " tMed Estimada                  4428 non-null object\n",
      " tMax                           4428 non-null object\n",
      " tMax Estimada                  4428 non-null object\n",
      " precipitacao                   4428 non-null object\n",
      " precipitacao Estimada          4428 non-null object\n",
      " estiagem*                      3951 non-null object\n",
      " estiagemAgricola*              3951 non-null object\n",
      " urMin                          4377 non-null object\n",
      " urMin Estimada                 4428 non-null object\n",
      " urMax                          4376 non-null object\n",
      " urMax Estimada                 4428 non-null object\n",
      " evapotranspiracaoPotencial     3653 non-null object\n",
      " radiacaoSolar                  0 non-null object\n",
      " velocidadeVento                0 non-null object\n",
      " direcaoVento                   0 non-null object\n",
      " horarioVento                   0 non-null object\n",
      " pontoOrvalhoMinimo             0 non-null object\n",
      " pontoOrvalhoMaximo             0 non-null object\n",
      " pressaoAtmMinima               0 non-null object\n",
      " pressaoAtmMaxima               0 non-null object\n",
      " evapotranspiracaoReal*         3653 non-null object\n",
      " disponibilidadeAguaSolo*       3653 non-null object\n",
      "dtypes: object(26)\n",
      "memory usage: 934.0+ KB\n"
     ]
    }
   ],
   "source": [
    "dfClima.info()"
   ]
  },
  {
   "cell_type": "code",
   "execution_count": 482,
   "metadata": {},
   "outputs": [
    {
     "data": {
      "text/plain": [
       "Index(['data ', ' tMin ', ' tMin Estimada ', ' tMed ', ' tMed Estimada ',\n",
       "       ' tMax ', ' tMax Estimada ', ' precipitacao ',\n",
       "       ' precipitacao Estimada ', ' estiagem* ', ' estiagemAgricola* ',\n",
       "       ' urMin ', ' urMin Estimada ', ' urMax ', ' urMax Estimada ',\n",
       "       ' evapotranspiracaoPotencial ', ' radiacaoSolar ', ' velocidadeVento ',\n",
       "       ' direcaoVento ', ' horarioVento ', ' pontoOrvalhoMinimo ',\n",
       "       ' pontoOrvalhoMaximo ', ' pressaoAtmMinima ', ' pressaoAtmMaxima ',\n",
       "       ' evapotranspiracaoReal* ', ' disponibilidadeAguaSolo*'],\n",
       "      dtype='object', name=0)"
      ]
     },
     "execution_count": 482,
     "metadata": {},
     "output_type": "execute_result"
    }
   ],
   "source": [
    "dfClima.columns"
   ]
  },
  {
   "cell_type": "code",
   "execution_count": 483,
   "metadata": {},
   "outputs": [
    {
     "data": {
      "text/html": [
       "<div>\n",
       "<style scoped>\n",
       "    .dataframe tbody tr th:only-of-type {\n",
       "        vertical-align: middle;\n",
       "    }\n",
       "\n",
       "    .dataframe tbody tr th {\n",
       "        vertical-align: top;\n",
       "    }\n",
       "\n",
       "    .dataframe thead th {\n",
       "        text-align: right;\n",
       "    }\n",
       "</style>\n",
       "<table border=\"1\" class=\"dataframe\">\n",
       "  <thead>\n",
       "    <tr style=\"text-align: right;\">\n",
       "      <th></th>\n",
       "      <th>data</th>\n",
       "      <th>tMin</th>\n",
       "      <th>tMed</th>\n",
       "      <th>tMax</th>\n",
       "      <th>precipitacao</th>\n",
       "      <th>urMin</th>\n",
       "      <th>urMax</th>\n",
       "    </tr>\n",
       "  </thead>\n",
       "  <tbody>\n",
       "    <tr>\n",
       "      <th>1</th>\n",
       "      <td>2022-02-14 00:00:00</td>\n",
       "      <td>19.52</td>\n",
       "      <td>25.38</td>\n",
       "      <td>31.23</td>\n",
       "      <td>0</td>\n",
       "      <td>50.48</td>\n",
       "      <td>87.9</td>\n",
       "    </tr>\n",
       "    <tr>\n",
       "      <th>2</th>\n",
       "      <td>2022-02-13 00:00:00</td>\n",
       "      <td>18.75</td>\n",
       "      <td>25.32</td>\n",
       "      <td>31.89</td>\n",
       "      <td>0</td>\n",
       "      <td>44.21</td>\n",
       "      <td>86</td>\n",
       "    </tr>\n",
       "    <tr>\n",
       "      <th>3</th>\n",
       "      <td>2022-02-12 00:00:00</td>\n",
       "      <td>18.68</td>\n",
       "      <td>24.63</td>\n",
       "      <td>30.58</td>\n",
       "      <td>0.51</td>\n",
       "      <td>53.22</td>\n",
       "      <td>85.9</td>\n",
       "    </tr>\n",
       "    <tr>\n",
       "      <th>4</th>\n",
       "      <td>2022-02-11 00:00:00</td>\n",
       "      <td>18.41</td>\n",
       "      <td>24.3</td>\n",
       "      <td>30.19</td>\n",
       "      <td>0</td>\n",
       "      <td>49.04</td>\n",
       "      <td>83.8</td>\n",
       "    </tr>\n",
       "    <tr>\n",
       "      <th>5</th>\n",
       "      <td>2022-02-10 00:00:00</td>\n",
       "      <td>17.21</td>\n",
       "      <td>23.52</td>\n",
       "      <td>29.83</td>\n",
       "      <td>0</td>\n",
       "      <td>46.78</td>\n",
       "      <td>85.7</td>\n",
       "    </tr>\n",
       "  </tbody>\n",
       "</table>\n",
       "</div>"
      ],
      "text/plain": [
       "0                data   tMin   tMed   tMax   precipitacao   urMin   urMax \n",
       "1  2022-02-14 00:00:00  19.52  25.38  31.23              0   50.48    87.9\n",
       "2  2022-02-13 00:00:00  18.75  25.32  31.89              0   44.21      86\n",
       "3  2022-02-12 00:00:00  18.68  24.63  30.58           0.51   53.22    85.9\n",
       "4  2022-02-11 00:00:00  18.41   24.3  30.19              0   49.04    83.8\n",
       "5  2022-02-10 00:00:00  17.21  23.52  29.83              0   46.78    85.7"
      ]
     },
     "execution_count": 483,
     "metadata": {},
     "output_type": "execute_result"
    }
   ],
   "source": [
    "#Slicing original dataframe to get specific columns\n",
    "dfClimaSlice = dfClima.iloc[:,[0, 1, 3, 5, 7, 11, 13]]\n",
    "dfClimaSlice.head()"
   ]
  },
  {
   "cell_type": "code",
   "execution_count": 484,
   "metadata": {},
   "outputs": [
    {
     "name": "stdout",
     "output_type": "stream",
     "text": [
      "<class 'pandas.core.frame.DataFrame'>\n",
      "Int64Index: 4428 entries, 1 to 4428\n",
      "Data columns (total 7 columns):\n",
      "data              4428 non-null object\n",
      " tMin             4428 non-null object\n",
      " tMed             4428 non-null object\n",
      " tMax             4428 non-null object\n",
      " precipitacao     4428 non-null object\n",
      " urMin            4377 non-null object\n",
      " urMax            4376 non-null object\n",
      "dtypes: object(7)\n",
      "memory usage: 276.8+ KB\n"
     ]
    }
   ],
   "source": [
    "dfClimaSlice.info()"
   ]
  },
  {
   "cell_type": "code",
   "execution_count": 485,
   "metadata": {},
   "outputs": [
    {
     "name": "stderr",
     "output_type": "stream",
     "text": [
      "C:\\Users\\ML162\\Anaconda3\\lib\\site-packages\\pandas\\core\\indexing.py:635: SettingWithCopyWarning: \n",
      "A value is trying to be set on a copy of a slice from a DataFrame.\n",
      "Try using .loc[row_indexer,col_indexer] = value instead\n",
      "\n",
      "See the caveats in the documentation: http://pandas.pydata.org/pandas-docs/stable/indexing.html#indexing-view-versus-copy\n",
      "  self.obj[item_labels[indexer[info_axis]]] = value\n",
      "C:\\Users\\ML162\\Anaconda3\\lib\\site-packages\\pandas\\core\\indexing.py:543: SettingWithCopyWarning: \n",
      "A value is trying to be set on a copy of a slice from a DataFrame.\n",
      "Try using .loc[row_indexer,col_indexer] = value instead\n",
      "\n",
      "See the caveats in the documentation: http://pandas.pydata.org/pandas-docs/stable/indexing.html#indexing-view-versus-copy\n",
      "  self.obj[item] = s\n"
     ]
    },
    {
     "name": "stdout",
     "output_type": "stream",
     "text": [
      "<class 'pandas.core.frame.DataFrame'>\n",
      "Int64Index: 4428 entries, 1 to 4428\n",
      "Data columns (total 7 columns):\n",
      "data              4428 non-null datetime64[ns]\n",
      " tMin             4428 non-null float64\n",
      " tMed             4428 non-null float64\n",
      " tMax             4428 non-null float64\n",
      " precipitacao     4428 non-null float64\n",
      " urMin            4377 non-null float64\n",
      " urMax            4376 non-null float64\n",
      "dtypes: datetime64[ns](1), float64(6)\n",
      "memory usage: 276.8 KB\n"
     ]
    }
   ],
   "source": [
    "#Changing data types\n",
    "dfClimaSlice.iloc[:, 0] = pd.to_datetime(dfClimaSlice.iloc[:, 0])\n",
    "dfClimaSlice.iloc[:, [1, 2, 3, 4, 5, 6]] = dfClimaSlice.iloc[:, [1, 2, 3, 4, 5, 6]].astype('float64')\n",
    "dfClimaSlice.info()"
   ]
  },
  {
   "cell_type": "code",
   "execution_count": 486,
   "metadata": {},
   "outputs": [
    {
     "name": "stderr",
     "output_type": "stream",
     "text": [
      "C:\\Users\\ML162\\Anaconda3\\lib\\site-packages\\pandas\\core\\frame.py:4025: SettingWithCopyWarning: \n",
      "A value is trying to be set on a copy of a slice from a DataFrame\n",
      "\n",
      "See the caveats in the documentation: http://pandas.pydata.org/pandas-docs/stable/indexing.html#indexing-view-versus-copy\n",
      "  return super(DataFrame, self).rename(**kwargs)\n"
     ]
    }
   ],
   "source": [
    "#Renaming columns by column number because the original name contains blanck spaces\n",
    "#We can access column number by gettin a list of the columns name with df.columns[i]\n",
    "#where i is the index of each member of the list\n",
    "dfClimaSlice.rename(columns={dfClimaSlice.columns[0]: \"Data\", dfClimaSlice.columns[1]: \"tMin\",\n",
    "                    dfClimaSlice.columns[2]: \"tMed\", dfClimaSlice.columns[3]: \"tMax\",\n",
    "                    dfClimaSlice.columns[4]: \"precipit\", dfClimaSlice.columns[5]: \"urMin\",\n",
    "                    dfClimaSlice.columns[6]: \"urMax\"}, inplace=True)"
   ]
  },
  {
   "cell_type": "code",
   "execution_count": 487,
   "metadata": {},
   "outputs": [
    {
     "data": {
      "text/html": [
       "<div>\n",
       "<style scoped>\n",
       "    .dataframe tbody tr th:only-of-type {\n",
       "        vertical-align: middle;\n",
       "    }\n",
       "\n",
       "    .dataframe tbody tr th {\n",
       "        vertical-align: top;\n",
       "    }\n",
       "\n",
       "    .dataframe thead th {\n",
       "        text-align: right;\n",
       "    }\n",
       "</style>\n",
       "<table border=\"1\" class=\"dataframe\">\n",
       "  <thead>\n",
       "    <tr style=\"text-align: right;\">\n",
       "      <th></th>\n",
       "      <th>Data</th>\n",
       "      <th>tMin</th>\n",
       "      <th>tMed</th>\n",
       "      <th>tMax</th>\n",
       "      <th>precipit</th>\n",
       "      <th>urMin</th>\n",
       "      <th>urMax</th>\n",
       "    </tr>\n",
       "  </thead>\n",
       "  <tbody>\n",
       "    <tr>\n",
       "      <th>1</th>\n",
       "      <td>2022-02-14</td>\n",
       "      <td>19.52</td>\n",
       "      <td>25.38</td>\n",
       "      <td>31.23</td>\n",
       "      <td>0.00</td>\n",
       "      <td>50.48</td>\n",
       "      <td>87.9</td>\n",
       "    </tr>\n",
       "    <tr>\n",
       "      <th>2</th>\n",
       "      <td>2022-02-13</td>\n",
       "      <td>18.75</td>\n",
       "      <td>25.32</td>\n",
       "      <td>31.89</td>\n",
       "      <td>0.00</td>\n",
       "      <td>44.21</td>\n",
       "      <td>86.0</td>\n",
       "    </tr>\n",
       "    <tr>\n",
       "      <th>3</th>\n",
       "      <td>2022-02-12</td>\n",
       "      <td>18.68</td>\n",
       "      <td>24.63</td>\n",
       "      <td>30.58</td>\n",
       "      <td>0.51</td>\n",
       "      <td>53.22</td>\n",
       "      <td>85.9</td>\n",
       "    </tr>\n",
       "    <tr>\n",
       "      <th>4</th>\n",
       "      <td>2022-02-11</td>\n",
       "      <td>18.41</td>\n",
       "      <td>24.30</td>\n",
       "      <td>30.19</td>\n",
       "      <td>0.00</td>\n",
       "      <td>49.04</td>\n",
       "      <td>83.8</td>\n",
       "    </tr>\n",
       "    <tr>\n",
       "      <th>5</th>\n",
       "      <td>2022-02-10</td>\n",
       "      <td>17.21</td>\n",
       "      <td>23.52</td>\n",
       "      <td>29.83</td>\n",
       "      <td>0.00</td>\n",
       "      <td>46.78</td>\n",
       "      <td>85.7</td>\n",
       "    </tr>\n",
       "  </tbody>\n",
       "</table>\n",
       "</div>"
      ],
      "text/plain": [
       "0       Data   tMin   tMed   tMax  precipit  urMin  urMax\n",
       "1 2022-02-14  19.52  25.38  31.23      0.00  50.48   87.9\n",
       "2 2022-02-13  18.75  25.32  31.89      0.00  44.21   86.0\n",
       "3 2022-02-12  18.68  24.63  30.58      0.51  53.22   85.9\n",
       "4 2022-02-11  18.41  24.30  30.19      0.00  49.04   83.8\n",
       "5 2022-02-10  17.21  23.52  29.83      0.00  46.78   85.7"
      ]
     },
     "execution_count": 487,
     "metadata": {},
     "output_type": "execute_result"
    }
   ],
   "source": [
    "dfClimaSlice.head()"
   ]
  },
  {
   "cell_type": "code",
   "execution_count": 488,
   "metadata": {},
   "outputs": [],
   "source": [
    "urMinMedio = dfClimaSlice.urMin[dfClimaSlice.urMin.isna()==False].mean()\n",
    "urMaxMedio = dfClimaSlice.urMax[dfClimaSlice.urMax.isna()==False].mean()"
   ]
  },
  {
   "cell_type": "code",
   "execution_count": 489,
   "metadata": {},
   "outputs": [
    {
     "data": {
      "text/plain": [
       "44.530628284213"
      ]
     },
     "execution_count": 489,
     "metadata": {},
     "output_type": "execute_result"
    }
   ],
   "source": [
    "dfClimaSlice.urMin.mean()"
   ]
  },
  {
   "cell_type": "code",
   "execution_count": 490,
   "metadata": {},
   "outputs": [
    {
     "data": {
      "text/plain": [
       "88.08548674588644"
      ]
     },
     "execution_count": 490,
     "metadata": {},
     "output_type": "execute_result"
    }
   ],
   "source": [
    "urMaxMedio"
   ]
  },
  {
   "cell_type": "code",
   "execution_count": 491,
   "metadata": {},
   "outputs": [
    {
     "name": "stderr",
     "output_type": "stream",
     "text": [
      "C:\\Users\\ML162\\Anaconda3\\lib\\site-packages\\pandas\\core\\generic.py:6130: SettingWithCopyWarning: \n",
      "A value is trying to be set on a copy of a slice from a DataFrame\n",
      "\n",
      "See the caveats in the documentation: http://pandas.pydata.org/pandas-docs/stable/indexing.html#indexing-view-versus-copy\n",
      "  self._update_inplace(new_data)\n"
     ]
    }
   ],
   "source": [
    "#Repacing missing values with the mean\n",
    "dfClimaSlice.urMin.fillna(value=urMinMedio, inplace=True)\n",
    "dfClimaSlice.urMax.fillna(value=urMaxMedio, inplace=True)"
   ]
  },
  {
   "cell_type": "code",
   "execution_count": 492,
   "metadata": {},
   "outputs": [],
   "source": [
    "indexURMINnan = dfClimaSlice[dfClimaSlice.urMin.isna()].index\n",
    "indexURMAXnan = dfClimaSlice[dfClimaSlice.urMax.isna()].index"
   ]
  },
  {
   "cell_type": "code",
   "execution_count": 493,
   "metadata": {},
   "outputs": [
    {
     "data": {
      "text/plain": [
       "Int64Index([], dtype='int64')"
      ]
     },
     "execution_count": 493,
     "metadata": {},
     "output_type": "execute_result"
    }
   ],
   "source": [
    "indexURMINnan #empty list"
   ]
  },
  {
   "cell_type": "code",
   "execution_count": 494,
   "metadata": {},
   "outputs": [
    {
     "data": {
      "text/plain": [
       "Int64Index([], dtype='int64')"
      ]
     },
     "execution_count": 494,
     "metadata": {},
     "output_type": "execute_result"
    }
   ],
   "source": [
    "indexURMAXnan #empty list"
   ]
  },
  {
   "cell_type": "code",
   "execution_count": 495,
   "metadata": {},
   "outputs": [
    {
     "name": "stderr",
     "output_type": "stream",
     "text": [
      "C:\\Users\\ML162\\Anaconda3\\lib\\site-packages\\ipykernel_launcher.py:1: SettingWithCopyWarning: \n",
      "A value is trying to be set on a copy of a slice from a DataFrame\n",
      "\n",
      "See the caveats in the documentation: http://pandas.pydata.org/pandas-docs/stable/indexing.html#indexing-view-versus-copy\n",
      "  \"\"\"Entry point for launching an IPython kernel.\n"
     ]
    }
   ],
   "source": [
    "dfClimaSlice.sort_values(by='Data', ascending=True, inplace=True)"
   ]
  },
  {
   "cell_type": "code",
   "execution_count": 496,
   "metadata": {},
   "outputs": [
    {
     "name": "stdout",
     "output_type": "stream",
     "text": [
      "<class 'pandas.core.frame.DataFrame'>\n",
      "Int64Index: 4428 entries, 4428 to 1\n",
      "Data columns (total 7 columns):\n",
      "Data        4428 non-null datetime64[ns]\n",
      "tMin        4428 non-null float64\n",
      "tMed        4428 non-null float64\n",
      "tMax        4428 non-null float64\n",
      "precipit    4428 non-null float64\n",
      "urMin       4428 non-null float64\n",
      "urMax       4428 non-null float64\n",
      "dtypes: datetime64[ns](1), float64(6)\n",
      "memory usage: 276.8 KB\n"
     ]
    }
   ],
   "source": [
    "dfClimaSlice.info()"
   ]
  },
  {
   "cell_type": "code",
   "execution_count": 497,
   "metadata": {},
   "outputs": [
    {
     "data": {
      "text/html": [
       "<div>\n",
       "<style scoped>\n",
       "    .dataframe tbody tr th:only-of-type {\n",
       "        vertical-align: middle;\n",
       "    }\n",
       "\n",
       "    .dataframe tbody tr th {\n",
       "        vertical-align: top;\n",
       "    }\n",
       "\n",
       "    .dataframe thead th {\n",
       "        text-align: right;\n",
       "    }\n",
       "</style>\n",
       "<table border=\"1\" class=\"dataframe\">\n",
       "  <thead>\n",
       "    <tr style=\"text-align: right;\">\n",
       "      <th></th>\n",
       "      <th>Data</th>\n",
       "      <th>tMin</th>\n",
       "      <th>tMed</th>\n",
       "      <th>tMax</th>\n",
       "      <th>precipit</th>\n",
       "      <th>urMin</th>\n",
       "      <th>urMax</th>\n",
       "    </tr>\n",
       "  </thead>\n",
       "  <tbody>\n",
       "    <tr>\n",
       "      <th>4428</th>\n",
       "      <td>2010-01-01</td>\n",
       "      <td>20.07</td>\n",
       "      <td>24.11</td>\n",
       "      <td>28.15</td>\n",
       "      <td>0.00</td>\n",
       "      <td>68.76</td>\n",
       "      <td>93.4</td>\n",
       "    </tr>\n",
       "    <tr>\n",
       "      <th>4427</th>\n",
       "      <td>2010-01-02</td>\n",
       "      <td>21.27</td>\n",
       "      <td>26.18</td>\n",
       "      <td>31.08</td>\n",
       "      <td>3.05</td>\n",
       "      <td>57.82</td>\n",
       "      <td>96.6</td>\n",
       "    </tr>\n",
       "    <tr>\n",
       "      <th>4426</th>\n",
       "      <td>2010-01-03</td>\n",
       "      <td>21.20</td>\n",
       "      <td>28.16</td>\n",
       "      <td>35.11</td>\n",
       "      <td>2.54</td>\n",
       "      <td>41.18</td>\n",
       "      <td>94.8</td>\n",
       "    </tr>\n",
       "    <tr>\n",
       "      <th>4425</th>\n",
       "      <td>2010-01-04</td>\n",
       "      <td>21.46</td>\n",
       "      <td>28.07</td>\n",
       "      <td>34.68</td>\n",
       "      <td>0.00</td>\n",
       "      <td>40.75</td>\n",
       "      <td>91.4</td>\n",
       "    </tr>\n",
       "    <tr>\n",
       "      <th>4424</th>\n",
       "      <td>2010-01-05</td>\n",
       "      <td>20.87</td>\n",
       "      <td>27.30</td>\n",
       "      <td>33.73</td>\n",
       "      <td>5.33</td>\n",
       "      <td>48.08</td>\n",
       "      <td>91.5</td>\n",
       "    </tr>\n",
       "  </tbody>\n",
       "</table>\n",
       "</div>"
      ],
      "text/plain": [
       "0          Data   tMin   tMed   tMax  precipit  urMin  urMax\n",
       "4428 2010-01-01  20.07  24.11  28.15      0.00  68.76   93.4\n",
       "4427 2010-01-02  21.27  26.18  31.08      3.05  57.82   96.6\n",
       "4426 2010-01-03  21.20  28.16  35.11      2.54  41.18   94.8\n",
       "4425 2010-01-04  21.46  28.07  34.68      0.00  40.75   91.4\n",
       "4424 2010-01-05  20.87  27.30  33.73      5.33  48.08   91.5"
      ]
     },
     "execution_count": 497,
     "metadata": {},
     "output_type": "execute_result"
    }
   ],
   "source": [
    "dfClimaSlice.head()"
   ]
  },
  {
   "cell_type": "code",
   "execution_count": 498,
   "metadata": {},
   "outputs": [
    {
     "data": {
      "text/plain": [
       "[<matplotlib.lines.Line2D at 0x1e51295d438>]"
      ]
     },
     "execution_count": 498,
     "metadata": {},
     "output_type": "execute_result"
    },
    {
     "data": {
      "image/png": "[encoded data removed]",
      "text/plain": [
       "<Figure size 432x288 with 1 Axes>"
      ]
     },
     "metadata": {
      "needs_background": "light"
     },
     "output_type": "display_data"
    }
   ],
   "source": [
    "x=np.asarray(dfClimaSlice.Data)\n",
    "y=np.asarray(dfClimaSlice.tMax)\n",
    "plt.plot(x, y)"
   ]
  },
  {
   "cell_type": "code",
   "execution_count": 499,
   "metadata": {},
   "outputs": [
    {
     "data": {
      "text/plain": [
       "<matplotlib.collections.PathCollection at 0x1e5141a33c8>"
      ]
     },
     "execution_count": 499,
     "metadata": {},
     "output_type": "execute_result"
    },
    {
     "data": {
      "image/png": "[encoded data removed]",
      "text/plain": [
       "<Figure size 432x288 with 1 Axes>"
      ]
     },
     "metadata": {
      "needs_background": "light"
     },
     "output_type": "display_data"
    }
   ],
   "source": [
    "plt.scatter(x=dfClimaSlice.urMax, y=dfClimaSlice.precipit)"
   ]
  },
  {
   "cell_type": "code",
   "execution_count": 500,
   "metadata": {},
   "outputs": [
    {
     "name": "stderr",
     "output_type": "stream",
     "text": [
      "C:\\Users\\ML162\\Anaconda3\\lib\\site-packages\\ipykernel_launcher.py:1: SettingWithCopyWarning: \n",
      "A value is trying to be set on a copy of a slice from a DataFrame.\n",
      "Try using .loc[row_indexer,col_indexer] = value instead\n",
      "\n",
      "See the caveats in the documentation: http://pandas.pydata.org/pandas-docs/stable/indexing.html#indexing-view-versus-copy\n",
      "  \"\"\"Entry point for launching an IPython kernel.\n"
     ]
    }
   ],
   "source": [
    "dfClimaSlice['Ano'] = dfClimaSlice['Data'].apply(lambda x: x.year)"
   ]
  },
  {
   "cell_type": "code",
   "execution_count": 501,
   "metadata": {},
   "outputs": [
    {
     "data": {
      "text/html": [
       "<div>\n",
       "<style scoped>\n",
       "    .dataframe tbody tr th:only-of-type {\n",
       "        vertical-align: middle;\n",
       "    }\n",
       "\n",
       "    .dataframe tbody tr th {\n",
       "        vertical-align: top;\n",
       "    }\n",
       "\n",
       "    .dataframe thead th {\n",
       "        text-align: right;\n",
       "    }\n",
       "</style>\n",
       "<table border=\"1\" class=\"dataframe\">\n",
       "  <thead>\n",
       "    <tr style=\"text-align: right;\">\n",
       "      <th></th>\n",
       "      <th>Data</th>\n",
       "      <th>tMin</th>\n",
       "      <th>tMed</th>\n",
       "      <th>tMax</th>\n",
       "      <th>precipit</th>\n",
       "      <th>urMin</th>\n",
       "      <th>urMax</th>\n",
       "      <th>Ano</th>\n",
       "    </tr>\n",
       "  </thead>\n",
       "  <tbody>\n",
       "    <tr>\n",
       "      <th>4428</th>\n",
       "      <td>2010-01-01</td>\n",
       "      <td>20.07</td>\n",
       "      <td>24.11</td>\n",
       "      <td>28.15</td>\n",
       "      <td>0.00</td>\n",
       "      <td>68.76</td>\n",
       "      <td>93.4</td>\n",
       "      <td>2010</td>\n",
       "    </tr>\n",
       "    <tr>\n",
       "      <th>4427</th>\n",
       "      <td>2010-01-02</td>\n",
       "      <td>21.27</td>\n",
       "      <td>26.18</td>\n",
       "      <td>31.08</td>\n",
       "      <td>3.05</td>\n",
       "      <td>57.82</td>\n",
       "      <td>96.6</td>\n",
       "      <td>2010</td>\n",
       "    </tr>\n",
       "    <tr>\n",
       "      <th>4426</th>\n",
       "      <td>2010-01-03</td>\n",
       "      <td>21.20</td>\n",
       "      <td>28.16</td>\n",
       "      <td>35.11</td>\n",
       "      <td>2.54</td>\n",
       "      <td>41.18</td>\n",
       "      <td>94.8</td>\n",
       "      <td>2010</td>\n",
       "    </tr>\n",
       "    <tr>\n",
       "      <th>4425</th>\n",
       "      <td>2010-01-04</td>\n",
       "      <td>21.46</td>\n",
       "      <td>28.07</td>\n",
       "      <td>34.68</td>\n",
       "      <td>0.00</td>\n",
       "      <td>40.75</td>\n",
       "      <td>91.4</td>\n",
       "      <td>2010</td>\n",
       "    </tr>\n",
       "    <tr>\n",
       "      <th>4424</th>\n",
       "      <td>2010-01-05</td>\n",
       "      <td>20.87</td>\n",
       "      <td>27.30</td>\n",
       "      <td>33.73</td>\n",
       "      <td>5.33</td>\n",
       "      <td>48.08</td>\n",
       "      <td>91.5</td>\n",
       "      <td>2010</td>\n",
       "    </tr>\n",
       "  </tbody>\n",
       "</table>\n",
       "</div>"
      ],
      "text/plain": [
       "0          Data   tMin   tMed   tMax  precipit  urMin  urMax   Ano\n",
       "4428 2010-01-01  20.07  24.11  28.15      0.00  68.76   93.4  2010\n",
       "4427 2010-01-02  21.27  26.18  31.08      3.05  57.82   96.6  2010\n",
       "4426 2010-01-03  21.20  28.16  35.11      2.54  41.18   94.8  2010\n",
       "4425 2010-01-04  21.46  28.07  34.68      0.00  40.75   91.4  2010\n",
       "4424 2010-01-05  20.87  27.30  33.73      5.33  48.08   91.5  2010"
      ]
     },
     "execution_count": 501,
     "metadata": {},
     "output_type": "execute_result"
    }
   ],
   "source": [
    "dfClimaSlice.head()"
   ]
  },
  {
   "cell_type": "code",
   "execution_count": 502,
   "metadata": {},
   "outputs": [],
   "source": [
    "#Slicing dataframe into train dataframe and test dataframe\n",
    "dfClimaSliceTrain = dfClimaSlice[dfClimaSlice['Ano']<2022].drop(columns=['Data', 'tMin', 'tMed', 'Ano'])\n",
    "dfClimaSliceTest = dfClimaSlice[dfClimaSlice['Ano']==2022].drop(columns=['Data', 'tMin', 'tMed', 'Ano'])"
   ]
  },
  {
   "cell_type": "code",
   "execution_count": 503,
   "metadata": {},
   "outputs": [
    {
     "data": {
      "text/html": [
       "<div>\n",
       "<style scoped>\n",
       "    .dataframe tbody tr th:only-of-type {\n",
       "        vertical-align: middle;\n",
       "    }\n",
       "\n",
       "    .dataframe tbody tr th {\n",
       "        vertical-align: top;\n",
       "    }\n",
       "\n",
       "    .dataframe thead th {\n",
       "        text-align: right;\n",
       "    }\n",
       "</style>\n",
       "<table border=\"1\" class=\"dataframe\">\n",
       "  <thead>\n",
       "    <tr style=\"text-align: right;\">\n",
       "      <th></th>\n",
       "      <th>tMax</th>\n",
       "      <th>precipit</th>\n",
       "      <th>urMin</th>\n",
       "      <th>urMax</th>\n",
       "    </tr>\n",
       "  </thead>\n",
       "  <tbody>\n",
       "    <tr>\n",
       "      <th>4428</th>\n",
       "      <td>28.15</td>\n",
       "      <td>0.00</td>\n",
       "      <td>68.76</td>\n",
       "      <td>93.4</td>\n",
       "    </tr>\n",
       "    <tr>\n",
       "      <th>4427</th>\n",
       "      <td>31.08</td>\n",
       "      <td>3.05</td>\n",
       "      <td>57.82</td>\n",
       "      <td>96.6</td>\n",
       "    </tr>\n",
       "    <tr>\n",
       "      <th>4426</th>\n",
       "      <td>35.11</td>\n",
       "      <td>2.54</td>\n",
       "      <td>41.18</td>\n",
       "      <td>94.8</td>\n",
       "    </tr>\n",
       "    <tr>\n",
       "      <th>4425</th>\n",
       "      <td>34.68</td>\n",
       "      <td>0.00</td>\n",
       "      <td>40.75</td>\n",
       "      <td>91.4</td>\n",
       "    </tr>\n",
       "    <tr>\n",
       "      <th>4424</th>\n",
       "      <td>33.73</td>\n",
       "      <td>5.33</td>\n",
       "      <td>48.08</td>\n",
       "      <td>91.5</td>\n",
       "    </tr>\n",
       "  </tbody>\n",
       "</table>\n",
       "</div>"
      ],
      "text/plain": [
       "0      tMax  precipit  urMin  urMax\n",
       "4428  28.15      0.00  68.76   93.4\n",
       "4427  31.08      3.05  57.82   96.6\n",
       "4426  35.11      2.54  41.18   94.8\n",
       "4425  34.68      0.00  40.75   91.4\n",
       "4424  33.73      5.33  48.08   91.5"
      ]
     },
     "execution_count": 503,
     "metadata": {},
     "output_type": "execute_result"
    }
   ],
   "source": [
    "dfClimaSliceTrain.head()"
   ]
  },
  {
   "cell_type": "code",
   "execution_count": 504,
   "metadata": {},
   "outputs": [
    {
     "data": {
      "text/html": [
       "<div>\n",
       "<style scoped>\n",
       "    .dataframe tbody tr th:only-of-type {\n",
       "        vertical-align: middle;\n",
       "    }\n",
       "\n",
       "    .dataframe tbody tr th {\n",
       "        vertical-align: top;\n",
       "    }\n",
       "\n",
       "    .dataframe thead th {\n",
       "        text-align: right;\n",
       "    }\n",
       "</style>\n",
       "<table border=\"1\" class=\"dataframe\">\n",
       "  <thead>\n",
       "    <tr style=\"text-align: right;\">\n",
       "      <th></th>\n",
       "      <th>tMax</th>\n",
       "      <th>precipit</th>\n",
       "      <th>urMin</th>\n",
       "      <th>urMax</th>\n",
       "    </tr>\n",
       "  </thead>\n",
       "  <tbody>\n",
       "    <tr>\n",
       "      <th>45</th>\n",
       "      <td>26.16</td>\n",
       "      <td>25.40</td>\n",
       "      <td>71.20</td>\n",
       "      <td>91.4</td>\n",
       "    </tr>\n",
       "    <tr>\n",
       "      <th>44</th>\n",
       "      <td>28.70</td>\n",
       "      <td>10.92</td>\n",
       "      <td>61.65</td>\n",
       "      <td>91.0</td>\n",
       "    </tr>\n",
       "    <tr>\n",
       "      <th>43</th>\n",
       "      <td>28.33</td>\n",
       "      <td>0.25</td>\n",
       "      <td>57.18</td>\n",
       "      <td>90.4</td>\n",
       "    </tr>\n",
       "    <tr>\n",
       "      <th>42</th>\n",
       "      <td>30.37</td>\n",
       "      <td>0.25</td>\n",
       "      <td>58.91</td>\n",
       "      <td>89.5</td>\n",
       "    </tr>\n",
       "    <tr>\n",
       "      <th>41</th>\n",
       "      <td>28.92</td>\n",
       "      <td>1.27</td>\n",
       "      <td>63.76</td>\n",
       "      <td>90.2</td>\n",
       "    </tr>\n",
       "  </tbody>\n",
       "</table>\n",
       "</div>"
      ],
      "text/plain": [
       "0    tMax  precipit  urMin  urMax\n",
       "45  26.16     25.40  71.20   91.4\n",
       "44  28.70     10.92  61.65   91.0\n",
       "43  28.33      0.25  57.18   90.4\n",
       "42  30.37      0.25  58.91   89.5\n",
       "41  28.92      1.27  63.76   90.2"
      ]
     },
     "execution_count": 504,
     "metadata": {},
     "output_type": "execute_result"
    }
   ],
   "source": [
    "dfClimaSliceTest.head()"
   ]
  },
  {
   "cell_type": "code",
   "execution_count": 505,
   "metadata": {},
   "outputs": [],
   "source": [
    "x = np.asarray(dfClimaSliceTrain[['precipit', 'urMin', 'urMax']])\n",
    "y = np.asarray(dfClimaSliceTrain['tMax'])"
   ]
  },
  {
   "cell_type": "code",
   "execution_count": 506,
   "metadata": {},
   "outputs": [],
   "source": [
    "x_train, x_test, y_train, y_test = train_test_split(x, y, test_size=0.25)\n",
    "regLin = LinearRegression()\n",
    "regLin.fit(x_train, y_train)\n",
    "y_pred = regLin.predict(x_test)"
   ]
  },
  {
   "cell_type": "code",
   "execution_count": 518,
   "metadata": {},
   "outputs": [
    {
     "data": {
      "text/plain": [
       "array([30.33575805, 30.63923267, 29.22130237, ..., 28.67792803,\n",
       "       28.01393544, 31.2522737 ])"
      ]
     },
     "execution_count": 518,
     "metadata": {},
     "output_type": "execute_result"
    }
   ],
   "source": [
    "y_pred"
   ]
  },
  {
   "cell_type": "code",
   "execution_count": 514,
   "metadata": {},
   "outputs": [
    {
     "data": {
      "text/html": [
       "<div>\n",
       "<style scoped>\n",
       "    .dataframe tbody tr th:only-of-type {\n",
       "        vertical-align: middle;\n",
       "    }\n",
       "\n",
       "    .dataframe tbody tr th {\n",
       "        vertical-align: top;\n",
       "    }\n",
       "\n",
       "    .dataframe thead th {\n",
       "        text-align: right;\n",
       "    }\n",
       "</style>\n",
       "<table border=\"1\" class=\"dataframe\">\n",
       "  <thead>\n",
       "    <tr style=\"text-align: right;\">\n",
       "      <th></th>\n",
       "      <th>y_test</th>\n",
       "      <th>y_pred</th>\n",
       "    </tr>\n",
       "  </thead>\n",
       "  <tbody>\n",
       "    <tr>\n",
       "      <th>0</th>\n",
       "      <td>30.49</td>\n",
       "      <td>30.335758</td>\n",
       "    </tr>\n",
       "    <tr>\n",
       "      <th>1</th>\n",
       "      <td>28.28</td>\n",
       "      <td>30.639233</td>\n",
       "    </tr>\n",
       "    <tr>\n",
       "      <th>2</th>\n",
       "      <td>28.61</td>\n",
       "      <td>29.221302</td>\n",
       "    </tr>\n",
       "    <tr>\n",
       "      <th>3</th>\n",
       "      <td>28.42</td>\n",
       "      <td>29.226672</td>\n",
       "    </tr>\n",
       "    <tr>\n",
       "      <th>4</th>\n",
       "      <td>18.61</td>\n",
       "      <td>21.318392</td>\n",
       "    </tr>\n",
       "  </tbody>\n",
       "</table>\n",
       "</div>"
      ],
      "text/plain": [
       "   y_test     y_pred\n",
       "0   30.49  30.335758\n",
       "1   28.28  30.639233\n",
       "2   28.61  29.221302\n",
       "3   28.42  29.226672\n",
       "4   18.61  21.318392"
      ]
     },
     "execution_count": 514,
     "metadata": {},
     "output_type": "execute_result"
    }
   ],
   "source": [
    "dfComparing = pd.DataFrame(data=[y_test, y_pred]).T\n",
    "dfComparing.columns = ['y_test', 'y_pred']\n",
    "dfComparing.head()"
   ]
  },
  {
   "cell_type": "code",
   "execution_count": 515,
   "metadata": {},
   "outputs": [
    {
     "data": {
      "text/html": [
       "<div>\n",
       "<style scoped>\n",
       "    .dataframe tbody tr th:only-of-type {\n",
       "        vertical-align: middle;\n",
       "    }\n",
       "\n",
       "    .dataframe tbody tr th {\n",
       "        vertical-align: top;\n",
       "    }\n",
       "\n",
       "    .dataframe thead th {\n",
       "        text-align: right;\n",
       "    }\n",
       "</style>\n",
       "<table border=\"1\" class=\"dataframe\">\n",
       "  <thead>\n",
       "    <tr style=\"text-align: right;\">\n",
       "      <th></th>\n",
       "      <th>y_test</th>\n",
       "      <th>y_pred</th>\n",
       "      <th>erro</th>\n",
       "    </tr>\n",
       "  </thead>\n",
       "  <tbody>\n",
       "    <tr>\n",
       "      <th>0</th>\n",
       "      <td>30.49</td>\n",
       "      <td>30.335758</td>\n",
       "      <td>0.154242</td>\n",
       "    </tr>\n",
       "    <tr>\n",
       "      <th>1</th>\n",
       "      <td>28.28</td>\n",
       "      <td>30.639233</td>\n",
       "      <td>2.359233</td>\n",
       "    </tr>\n",
       "    <tr>\n",
       "      <th>2</th>\n",
       "      <td>28.61</td>\n",
       "      <td>29.221302</td>\n",
       "      <td>0.611302</td>\n",
       "    </tr>\n",
       "    <tr>\n",
       "      <th>3</th>\n",
       "      <td>28.42</td>\n",
       "      <td>29.226672</td>\n",
       "      <td>0.806672</td>\n",
       "    </tr>\n",
       "    <tr>\n",
       "      <th>4</th>\n",
       "      <td>18.61</td>\n",
       "      <td>21.318392</td>\n",
       "      <td>2.708392</td>\n",
       "    </tr>\n",
       "    <tr>\n",
       "      <th>5</th>\n",
       "      <td>26.21</td>\n",
       "      <td>26.880504</td>\n",
       "      <td>0.670504</td>\n",
       "    </tr>\n",
       "    <tr>\n",
       "      <th>6</th>\n",
       "      <td>27.16</td>\n",
       "      <td>30.312904</td>\n",
       "      <td>3.152904</td>\n",
       "    </tr>\n",
       "    <tr>\n",
       "      <th>7</th>\n",
       "      <td>30.13</td>\n",
       "      <td>27.378136</td>\n",
       "      <td>2.751864</td>\n",
       "    </tr>\n",
       "    <tr>\n",
       "      <th>8</th>\n",
       "      <td>28.73</td>\n",
       "      <td>27.819216</td>\n",
       "      <td>0.910784</td>\n",
       "    </tr>\n",
       "    <tr>\n",
       "      <th>9</th>\n",
       "      <td>22.03</td>\n",
       "      <td>24.590532</td>\n",
       "      <td>2.560532</td>\n",
       "    </tr>\n",
       "  </tbody>\n",
       "</table>\n",
       "</div>"
      ],
      "text/plain": [
       "   y_test     y_pred      erro\n",
       "0   30.49  30.335758  0.154242\n",
       "1   28.28  30.639233  2.359233\n",
       "2   28.61  29.221302  0.611302\n",
       "3   28.42  29.226672  0.806672\n",
       "4   18.61  21.318392  2.708392\n",
       "5   26.21  26.880504  0.670504\n",
       "6   27.16  30.312904  3.152904\n",
       "7   30.13  27.378136  2.751864\n",
       "8   28.73  27.819216  0.910784\n",
       "9   22.03  24.590532  2.560532"
      ]
     },
     "execution_count": 515,
     "metadata": {},
     "output_type": "execute_result"
    }
   ],
   "source": [
    "dfComparing['erro'] = (dfComparing.y_test - dfComparing.y_pred)**2\n",
    "dfComparing['erro'] = dfComparing['erro'].apply(lambda x: np.sqrt(x))\n",
    "dfComparing.head(10)"
   ]
  },
  {
   "cell_type": "code",
   "execution_count": 546,
   "metadata": {},
   "outputs": [],
   "source": [
    "slope = regLin.coef_\n",
    "coef_lin = regLin.intercept_"
   ]
  },
  {
   "cell_type": "code",
   "execution_count": 554,
   "metadata": {},
   "outputs": [
    {
     "data": {
      "text/plain": [
       "(array([ 0.04666784, -0.16836199,  0.0661073 ]), 30.42032149725246)"
      ]
     },
     "execution_count": 554,
     "metadata": {},
     "output_type": "execute_result"
    }
   ],
   "source": [
    "slope, coef_lin"
   ]
  },
  {
   "cell_type": "code",
   "execution_count": 524,
   "metadata": {},
   "outputs": [
    {
     "data": {
      "text/html": [
       "<div>\n",
       "<style scoped>\n",
       "    .dataframe tbody tr th:only-of-type {\n",
       "        vertical-align: middle;\n",
       "    }\n",
       "\n",
       "    .dataframe tbody tr th {\n",
       "        vertical-align: top;\n",
       "    }\n",
       "\n",
       "    .dataframe thead th {\n",
       "        text-align: right;\n",
       "    }\n",
       "</style>\n",
       "<table border=\"1\" class=\"dataframe\">\n",
       "  <thead>\n",
       "    <tr style=\"text-align: right;\">\n",
       "      <th></th>\n",
       "      <th>tMax</th>\n",
       "      <th>precipit</th>\n",
       "      <th>urMin</th>\n",
       "      <th>urMax</th>\n",
       "    </tr>\n",
       "  </thead>\n",
       "  <tbody>\n",
       "    <tr>\n",
       "      <th>45</th>\n",
       "      <td>26.16</td>\n",
       "      <td>25.40</td>\n",
       "      <td>71.20</td>\n",
       "      <td>91.4</td>\n",
       "    </tr>\n",
       "    <tr>\n",
       "      <th>44</th>\n",
       "      <td>28.70</td>\n",
       "      <td>10.92</td>\n",
       "      <td>61.65</td>\n",
       "      <td>91.0</td>\n",
       "    </tr>\n",
       "    <tr>\n",
       "      <th>43</th>\n",
       "      <td>28.33</td>\n",
       "      <td>0.25</td>\n",
       "      <td>57.18</td>\n",
       "      <td>90.4</td>\n",
       "    </tr>\n",
       "    <tr>\n",
       "      <th>42</th>\n",
       "      <td>30.37</td>\n",
       "      <td>0.25</td>\n",
       "      <td>58.91</td>\n",
       "      <td>89.5</td>\n",
       "    </tr>\n",
       "    <tr>\n",
       "      <th>41</th>\n",
       "      <td>28.92</td>\n",
       "      <td>1.27</td>\n",
       "      <td>63.76</td>\n",
       "      <td>90.2</td>\n",
       "    </tr>\n",
       "  </tbody>\n",
       "</table>\n",
       "</div>"
      ],
      "text/plain": [
       "0    tMax  precipit  urMin  urMax\n",
       "45  26.16     25.40  71.20   91.4\n",
       "44  28.70     10.92  61.65   91.0\n",
       "43  28.33      0.25  57.18   90.4\n",
       "42  30.37      0.25  58.91   89.5\n",
       "41  28.92      1.27  63.76   90.2"
      ]
     },
     "execution_count": 524,
     "metadata": {},
     "output_type": "execute_result"
    }
   ],
   "source": [
    "dfClimaSliceTest.head()"
   ]
  },
  {
   "cell_type": "code",
   "execution_count": 563,
   "metadata": {},
   "outputs": [],
   "source": [
    "x2 = np.asarray(dfClimaSliceTest.iloc[:, [1, 2, 3]])"
   ]
  },
  {
   "cell_type": "code",
   "execution_count": 553,
   "metadata": {},
   "outputs": [
    {
     "data": {
      "text/plain": [
       "array([25.66051834, 26.56618201, 26.78114982, 26.43038701, 25.70770769,\n",
       "       25.5779208 , 25.73094227, 23.93504618, 25.5922842 , 24.34119733,\n",
       "       25.08779412, 25.51294946, 24.82261106, 28.42705868, 27.97750454,\n",
       "       28.00709629, 31.04240965, 27.22242547, 30.22558413, 28.56981636,\n",
       "       29.08455792, 30.83757744, 29.97744631, 31.5946625 , 30.30973818,\n",
       "       29.15889463, 29.37638126, 27.55289239, 27.38102576, 23.92486062,\n",
       "       23.17460015, 24.5504139 , 26.57951211, 23.05603549, 25.31385902,\n",
       "       27.34234461, 26.11412632, 27.73111258, 25.16904867, 27.92964357,\n",
       "       28.20974321, 27.70364126, 27.16251408, 28.66226571, 27.73223992])"
      ]
     },
     "execution_count": 553,
     "metadata": {},
     "output_type": "execute_result"
    }
   ],
   "source": [
    "y_pred2 = np.dot(x2, slope) + coef_lin\n",
    "y_pred2"
   ]
  },
  {
   "cell_type": "code",
   "execution_count": 556,
   "metadata": {},
   "outputs": [
    {
     "data": {
      "text/plain": [
       "array([26.16, 28.7 , 28.33, 30.37, 28.92, 28.46, 28.86, 24.99, 27.34,\n",
       "       22.78, 25.36, 25.58, 26.98, 31.92, 33.05, 31.81, 29.2 , 30.57,\n",
       "       32.96, 32.25, 32.65, 33.66, 33.58, 34.04, 33.58, 33.72, 31.55,\n",
       "       31.36, 30.02, 24.19, 21.39, 25.44, 25.63, 24.33, 28.25, 29.61,\n",
       "       29.34, 29.01, 27.65, 30.3 , 29.83, 30.19, 30.58, 31.89, 31.23])"
      ]
     },
     "execution_count": 556,
     "metadata": {},
     "output_type": "execute_result"
    }
   ],
   "source": [
    "resultReal = np.asarray(dfClimaSliceTest['tMax'])\n",
    "resultReal"
   ]
  },
  {
   "cell_type": "code",
   "execution_count": 579,
   "metadata": {},
   "outputs": [
    {
     "data": {
      "text/html": [
       "<div>\n",
       "<style scoped>\n",
       "    .dataframe tbody tr th:only-of-type {\n",
       "        vertical-align: middle;\n",
       "    }\n",
       "\n",
       "    .dataframe tbody tr th {\n",
       "        vertical-align: top;\n",
       "    }\n",
       "\n",
       "    .dataframe thead th {\n",
       "        text-align: right;\n",
       "    }\n",
       "</style>\n",
       "<table border=\"1\" class=\"dataframe\">\n",
       "  <thead>\n",
       "    <tr style=\"text-align: right;\">\n",
       "      <th></th>\n",
       "      <th>resultReal</th>\n",
       "      <th>y_pred2</th>\n",
       "      <th>Erro</th>\n",
       "    </tr>\n",
       "  </thead>\n",
       "  <tbody>\n",
       "    <tr>\n",
       "      <th>0</th>\n",
       "      <td>26.16</td>\n",
       "      <td>25.660518</td>\n",
       "      <td>0.499482</td>\n",
       "    </tr>\n",
       "    <tr>\n",
       "      <th>1</th>\n",
       "      <td>28.70</td>\n",
       "      <td>26.566182</td>\n",
       "      <td>2.133818</td>\n",
       "    </tr>\n",
       "    <tr>\n",
       "      <th>2</th>\n",
       "      <td>28.33</td>\n",
       "      <td>26.781150</td>\n",
       "      <td>1.548850</td>\n",
       "    </tr>\n",
       "    <tr>\n",
       "      <th>3</th>\n",
       "      <td>30.37</td>\n",
       "      <td>26.430387</td>\n",
       "      <td>3.939613</td>\n",
       "    </tr>\n",
       "    <tr>\n",
       "      <th>4</th>\n",
       "      <td>28.92</td>\n",
       "      <td>25.707708</td>\n",
       "      <td>3.212292</td>\n",
       "    </tr>\n",
       "    <tr>\n",
       "      <th>5</th>\n",
       "      <td>28.46</td>\n",
       "      <td>25.577921</td>\n",
       "      <td>2.882079</td>\n",
       "    </tr>\n",
       "    <tr>\n",
       "      <th>6</th>\n",
       "      <td>28.86</td>\n",
       "      <td>25.730942</td>\n",
       "      <td>3.129058</td>\n",
       "    </tr>\n",
       "    <tr>\n",
       "      <th>7</th>\n",
       "      <td>24.99</td>\n",
       "      <td>23.935046</td>\n",
       "      <td>1.054954</td>\n",
       "    </tr>\n",
       "    <tr>\n",
       "      <th>8</th>\n",
       "      <td>27.34</td>\n",
       "      <td>25.592284</td>\n",
       "      <td>1.747716</td>\n",
       "    </tr>\n",
       "    <tr>\n",
       "      <th>9</th>\n",
       "      <td>22.78</td>\n",
       "      <td>24.341197</td>\n",
       "      <td>1.561197</td>\n",
       "    </tr>\n",
       "    <tr>\n",
       "      <th>10</th>\n",
       "      <td>25.36</td>\n",
       "      <td>25.087794</td>\n",
       "      <td>0.272206</td>\n",
       "    </tr>\n",
       "    <tr>\n",
       "      <th>11</th>\n",
       "      <td>25.58</td>\n",
       "      <td>25.512949</td>\n",
       "      <td>0.067051</td>\n",
       "    </tr>\n",
       "    <tr>\n",
       "      <th>12</th>\n",
       "      <td>26.98</td>\n",
       "      <td>24.822611</td>\n",
       "      <td>2.157389</td>\n",
       "    </tr>\n",
       "    <tr>\n",
       "      <th>13</th>\n",
       "      <td>31.92</td>\n",
       "      <td>28.427059</td>\n",
       "      <td>3.492941</td>\n",
       "    </tr>\n",
       "    <tr>\n",
       "      <th>14</th>\n",
       "      <td>33.05</td>\n",
       "      <td>27.977505</td>\n",
       "      <td>5.072495</td>\n",
       "    </tr>\n",
       "    <tr>\n",
       "      <th>15</th>\n",
       "      <td>31.81</td>\n",
       "      <td>28.007096</td>\n",
       "      <td>3.802904</td>\n",
       "    </tr>\n",
       "    <tr>\n",
       "      <th>16</th>\n",
       "      <td>29.20</td>\n",
       "      <td>31.042410</td>\n",
       "      <td>1.842410</td>\n",
       "    </tr>\n",
       "    <tr>\n",
       "      <th>17</th>\n",
       "      <td>30.57</td>\n",
       "      <td>27.222425</td>\n",
       "      <td>3.347575</td>\n",
       "    </tr>\n",
       "    <tr>\n",
       "      <th>18</th>\n",
       "      <td>32.96</td>\n",
       "      <td>30.225584</td>\n",
       "      <td>2.734416</td>\n",
       "    </tr>\n",
       "    <tr>\n",
       "      <th>19</th>\n",
       "      <td>32.25</td>\n",
       "      <td>28.569816</td>\n",
       "      <td>3.680184</td>\n",
       "    </tr>\n",
       "    <tr>\n",
       "      <th>20</th>\n",
       "      <td>32.65</td>\n",
       "      <td>29.084558</td>\n",
       "      <td>3.565442</td>\n",
       "    </tr>\n",
       "    <tr>\n",
       "      <th>21</th>\n",
       "      <td>33.66</td>\n",
       "      <td>30.837577</td>\n",
       "      <td>2.822423</td>\n",
       "    </tr>\n",
       "    <tr>\n",
       "      <th>22</th>\n",
       "      <td>33.58</td>\n",
       "      <td>29.977446</td>\n",
       "      <td>3.602554</td>\n",
       "    </tr>\n",
       "    <tr>\n",
       "      <th>23</th>\n",
       "      <td>34.04</td>\n",
       "      <td>31.594663</td>\n",
       "      <td>2.445337</td>\n",
       "    </tr>\n",
       "    <tr>\n",
       "      <th>24</th>\n",
       "      <td>33.58</td>\n",
       "      <td>30.309738</td>\n",
       "      <td>3.270262</td>\n",
       "    </tr>\n",
       "    <tr>\n",
       "      <th>25</th>\n",
       "      <td>33.72</td>\n",
       "      <td>29.158895</td>\n",
       "      <td>4.561105</td>\n",
       "    </tr>\n",
       "    <tr>\n",
       "      <th>26</th>\n",
       "      <td>31.55</td>\n",
       "      <td>29.376381</td>\n",
       "      <td>2.173619</td>\n",
       "    </tr>\n",
       "    <tr>\n",
       "      <th>27</th>\n",
       "      <td>31.36</td>\n",
       "      <td>27.552892</td>\n",
       "      <td>3.807108</td>\n",
       "    </tr>\n",
       "    <tr>\n",
       "      <th>28</th>\n",
       "      <td>30.02</td>\n",
       "      <td>27.381026</td>\n",
       "      <td>2.638974</td>\n",
       "    </tr>\n",
       "    <tr>\n",
       "      <th>29</th>\n",
       "      <td>24.19</td>\n",
       "      <td>23.924861</td>\n",
       "      <td>0.265139</td>\n",
       "    </tr>\n",
       "    <tr>\n",
       "      <th>30</th>\n",
       "      <td>21.39</td>\n",
       "      <td>23.174600</td>\n",
       "      <td>1.784600</td>\n",
       "    </tr>\n",
       "    <tr>\n",
       "      <th>31</th>\n",
       "      <td>25.44</td>\n",
       "      <td>24.550414</td>\n",
       "      <td>0.889586</td>\n",
       "    </tr>\n",
       "    <tr>\n",
       "      <th>32</th>\n",
       "      <td>25.63</td>\n",
       "      <td>26.579512</td>\n",
       "      <td>0.949512</td>\n",
       "    </tr>\n",
       "    <tr>\n",
       "      <th>33</th>\n",
       "      <td>24.33</td>\n",
       "      <td>23.056035</td>\n",
       "      <td>1.273965</td>\n",
       "    </tr>\n",
       "    <tr>\n",
       "      <th>34</th>\n",
       "      <td>28.25</td>\n",
       "      <td>25.313859</td>\n",
       "      <td>2.936141</td>\n",
       "    </tr>\n",
       "    <tr>\n",
       "      <th>35</th>\n",
       "      <td>29.61</td>\n",
       "      <td>27.342345</td>\n",
       "      <td>2.267655</td>\n",
       "    </tr>\n",
       "    <tr>\n",
       "      <th>36</th>\n",
       "      <td>29.34</td>\n",
       "      <td>26.114126</td>\n",
       "      <td>3.225874</td>\n",
       "    </tr>\n",
       "    <tr>\n",
       "      <th>37</th>\n",
       "      <td>29.01</td>\n",
       "      <td>27.731113</td>\n",
       "      <td>1.278887</td>\n",
       "    </tr>\n",
       "    <tr>\n",
       "      <th>38</th>\n",
       "      <td>27.65</td>\n",
       "      <td>25.169049</td>\n",
       "      <td>2.480951</td>\n",
       "    </tr>\n",
       "    <tr>\n",
       "      <th>39</th>\n",
       "      <td>30.30</td>\n",
       "      <td>27.929644</td>\n",
       "      <td>2.370356</td>\n",
       "    </tr>\n",
       "    <tr>\n",
       "      <th>40</th>\n",
       "      <td>29.83</td>\n",
       "      <td>28.209743</td>\n",
       "      <td>1.620257</td>\n",
       "    </tr>\n",
       "    <tr>\n",
       "      <th>41</th>\n",
       "      <td>30.19</td>\n",
       "      <td>27.703641</td>\n",
       "      <td>2.486359</td>\n",
       "    </tr>\n",
       "    <tr>\n",
       "      <th>42</th>\n",
       "      <td>30.58</td>\n",
       "      <td>27.162514</td>\n",
       "      <td>3.417486</td>\n",
       "    </tr>\n",
       "    <tr>\n",
       "      <th>43</th>\n",
       "      <td>31.89</td>\n",
       "      <td>28.662266</td>\n",
       "      <td>3.227734</td>\n",
       "    </tr>\n",
       "    <tr>\n",
       "      <th>44</th>\n",
       "      <td>31.23</td>\n",
       "      <td>27.732240</td>\n",
       "      <td>3.497760</td>\n",
       "    </tr>\n",
       "  </tbody>\n",
       "</table>\n",
       "</div>"
      ],
      "text/plain": [
       "    resultReal    y_pred2      Erro\n",
       "0        26.16  25.660518  0.499482\n",
       "1        28.70  26.566182  2.133818\n",
       "2        28.33  26.781150  1.548850\n",
       "3        30.37  26.430387  3.939613\n",
       "4        28.92  25.707708  3.212292\n",
       "5        28.46  25.577921  2.882079\n",
       "6        28.86  25.730942  3.129058\n",
       "7        24.99  23.935046  1.054954\n",
       "8        27.34  25.592284  1.747716\n",
       "9        22.78  24.341197  1.561197\n",
       "10       25.36  25.087794  0.272206\n",
       "11       25.58  25.512949  0.067051\n",
       "12       26.98  24.822611  2.157389\n",
       "13       31.92  28.427059  3.492941\n",
       "14       33.05  27.977505  5.072495\n",
       "15       31.81  28.007096  3.802904\n",
       "16       29.20  31.042410  1.842410\n",
       "17       30.57  27.222425  3.347575\n",
       "18       32.96  30.225584  2.734416\n",
       "19       32.25  28.569816  3.680184\n",
       "20       32.65  29.084558  3.565442\n",
       "21       33.66  30.837577  2.822423\n",
       "22       33.58  29.977446  3.602554\n",
       "23       34.04  31.594663  2.445337\n",
       "24       33.58  30.309738  3.270262\n",
       "25       33.72  29.158895  4.561105\n",
       "26       31.55  29.376381  2.173619\n",
       "27       31.36  27.552892  3.807108\n",
       "28       30.02  27.381026  2.638974\n",
       "29       24.19  23.924861  0.265139\n",
       "30       21.39  23.174600  1.784600\n",
       "31       25.44  24.550414  0.889586\n",
       "32       25.63  26.579512  0.949512\n",
       "33       24.33  23.056035  1.273965\n",
       "34       28.25  25.313859  2.936141\n",
       "35       29.61  27.342345  2.267655\n",
       "36       29.34  26.114126  3.225874\n",
       "37       29.01  27.731113  1.278887\n",
       "38       27.65  25.169049  2.480951\n",
       "39       30.30  27.929644  2.370356\n",
       "40       29.83  28.209743  1.620257\n",
       "41       30.19  27.703641  2.486359\n",
       "42       30.58  27.162514  3.417486\n",
       "43       31.89  28.662266  3.227734\n",
       "44       31.23  27.732240  3.497760"
      ]
     },
     "execution_count": 579,
     "metadata": {},
     "output_type": "execute_result"
    }
   ],
   "source": [
    "dfComparing2 = pd.DataFrame(data=[resultReal, y_pred2]).T\n",
    "dfComparing2.columns = ['resultReal', 'y_pred2']\n",
    "dfComparing2['Erro'] = np.sqrt((dfComparing2.resultReal - dfComparing2.y_pred2)**2)\n",
    "dfComparing2"
   ]
  },
  {
   "cell_type": "code",
   "execution_count": null,
   "metadata": {},
   "outputs": [],
   "source": []
  }
 ],
 "metadata": {
  "kernelspec": {
   "display_name": "Python 3",
   "language": "python",
   "name": "python3"
  },
  "language_info": {
   "codemirror_mode": {
    "name": "ipython",
    "version": 3
   },
   "file_extension": ".py",
   "mimetype": "text/x-python",
   "name": "python",
   "nbconvert_exporter": "python",
   "pygments_lexer": "ipython3",
   "version": "3.7.3"
  }
 },
 "nbformat": 4,
 "nbformat_minor": 2
}
